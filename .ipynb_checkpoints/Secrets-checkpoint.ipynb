{
 "cells": [
  {
   "cell_type": "code",
<<<<<<< HEAD
   "execution_count": 3,
   "metadata": {},
   "outputs": [],
   "source": [
    "### Python Secrets!\n",
    "### Demonstrate Differences Between random and secrets\n",
    "### Examples from https://www.youtube.com/watch?v=xzlfXSBzhx8&ab_channel=IndianPythonista"
   ]
  },
  {
   "cell_type": "code",
   "execution_count": 12,
   "metadata": {},
   "outputs": [
    {
     "name": "stdout",
     "output_type": "stream",
     "text": [
      "14\n"
     ]
    }
   ],
   "source": [
    "### Random is not truely random because it can accept seeds that make random values the same regardless of the computer\n",
    "import random\n",
    "random.seed(1234)\n",
    "print(random.randrange(0,20))"
   ]
  },
  {
   "cell_type": "code",
   "execution_count": 11,
   "metadata": {},
   "outputs": [
    {
     "name": "stdout",
     "output_type": "stream",
     "text": [
      "14\n"
     ]
    }
   ],
   "source": [
    "random.seed(1234)\n",
    "print(random.randrange(0,20))"
   ]
  },
  {
   "cell_type": "code",
   "execution_count": 15,
   "metadata": {},
   "outputs": [
    {
     "name": "stdout",
     "output_type": "stream",
     "text": [
      "14\n"
     ]
    }
   ],
   "source": [
    "random.seed(1234)\n",
    "print(random.randrange(0,20))"
   ]
  },
  {
   "cell_type": "code",
   "execution_count": null,
   "metadata": {},
   "outputs": [],
   "source": [
    "### Above you can see that when the seed is applied the random value will always be the same\n",
    "### The random default seed is from os.urandom(n) which returns random bytes and is considered secrue\n",
    "### If that is false, however, random will default to the sum of the current time and process identifier"
   ]
  },
  {
   "cell_type": "code",
   "execution_count": 13,
   "metadata": {},
   "outputs": [
    {
     "name": "stdout",
     "output_type": "stream",
     "text": [
      "6\n"
     ]
    }
   ],
   "source": [
    "### Secrets on the other hand does not accept a seed and always defaults to os.urandom(n), thus providigng the most\n",
    "### cryptografically secure \"random\" bit\n",
    "import secrets\n",
    "print(secrets.randbelow(20))"
   ]
  },
  {
   "cell_type": "code",
   "execution_count": 14,
   "metadata": {},
   "outputs": [
    {
     "name": "stdout",
     "output_type": "stream",
     "text": [
      "3\n"
     ]
    }
   ],
   "source": [
    "print(secrets.randbelow(20))"
   ]
  },
  {
   "cell_type": "code",
   "execution_count": 16,
   "metadata": {},
   "outputs": [
    {
     "name": "stdout",
     "output_type": "stream",
     "text": [
      "11\n"
     ]
    }
   ],
   "source": [
    "print(secrets.randbelow(20))"
   ]
  },
  {
   "cell_type": "code",
   "execution_count": 18,
=======
   "execution_count": 4,
>>>>>>> ab2a3e75c8b8073995d090b0572bfafc5a365335
   "metadata": {},
   "outputs": [
    {
     "name": "stdout",
     "output_type": "stream",
     "text": [
<<<<<<< HEAD
      "Q7lZi3Vw4UVK8B8XgSnpNYnzqfURkA7tx9b7jusNqVk\n"
=======
      "hello\n",
      "8\n",
      "kek\n"
>>>>>>> ab2a3e75c8b8073995d090b0572bfafc5a365335
     ]
    }
   ],
   "source": [
<<<<<<< HEAD
    "### Other secrets methods\n",
    "print(secrets.token_urlsafe())"
=======
    "print(\"hello\")\n",
    "print(6+2)\n",
    "a = \"kek\"\n",
    "print(a)"
>>>>>>> ab2a3e75c8b8073995d090b0572bfafc5a365335
   ]
  },
  {
   "cell_type": "code",
<<<<<<< HEAD
   "execution_count": 20,
=======
   "execution_count": 5,
>>>>>>> ab2a3e75c8b8073995d090b0572bfafc5a365335
   "metadata": {},
   "outputs": [
    {
     "name": "stdout",
     "output_type": "stream",
     "text": [
<<<<<<< HEAD
      "b'\\xe9\\x13\\xf6\\xc4'\n"
=======
      "kek\n"
>>>>>>> ab2a3e75c8b8073995d090b0572bfafc5a365335
     ]
    }
   ],
   "source": [
<<<<<<< HEAD
    "print(secrets.token_bytes(4))"
   ]
  },
  {
   "cell_type": "code",
   "execution_count": 28,
   "metadata": {},
   "outputs": [],
   "source": [
    "### Perhaps secrets' most useful method is secrets.compare_digest(a,b)\n",
    "### This method is useful in cryptographic applcations like preventing time attacks"
   ]
  },
  {
   "cell_type": "code",
   "execution_count": 42,
   "metadata": {},
   "outputs": [
    {
     "name": "stdout",
     "output_type": "stream",
     "text": [
      "74.2 ns ± 37.7 ns per loop (mean ± std. dev. of 200 runs, 10 loops each)\n"
     ]
    }
   ],
   "source": [
    "%%timeit -n 10 -r 200 \n",
    "\"lsahflhflkjashflkjadshfe9840923u4HKHKH\" == \"lsahflhflkjashflkjadshfe9840923u4HKHKH\""
   ]
  },
  {
   "cell_type": "code",
   "execution_count": 43,
   "metadata": {},
   "outputs": [
    {
     "name": "stdout",
     "output_type": "stream",
     "text": [
      "299 ns ± 48.7 ns per loop (mean ± std. dev. of 200 runs, 10 loops each)\n"
     ]
    }
   ],
   "source": [
    "%%timeit -n 10 -r 200\n",
    "secrets.compare_digest(\"lsahflhflkjashflkjadshfe9840923u4HKHKH\",\"lsahflhflkjashflkjadshfe9840923u4HKHKH\")"
   ]
  },
  {
   "cell_type": "code",
   "execution_count": null,
   "metadata": {},
   "outputs": [],
   "source": []
=======
    "print(a)"
   ]
>>>>>>> ab2a3e75c8b8073995d090b0572bfafc5a365335
  }
 ],
 "metadata": {
  "kernelspec": {
   "display_name": "Python 3",
   "language": "python",
   "name": "python3"
  },
  "language_info": {
   "codemirror_mode": {
    "name": "ipython",
    "version": 3
   },
   "file_extension": ".py",
   "mimetype": "text/x-python",
   "name": "python",
   "nbconvert_exporter": "python",
   "pygments_lexer": "ipython3",
   "version": "3.8.3"
  }
 },
 "nbformat": 4,
 "nbformat_minor": 4
}
