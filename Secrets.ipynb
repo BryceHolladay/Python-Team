{
 "cells": [
  {
   "cell_type": "code",
<<<<<<< HEAD
   "execution_count": 3,
   "metadata": {},
   "outputs": [],
   "source": [
    "### Python Secrets!\n",
    "### Demonstrate Differences Between random and secrets\n",
    "### Examples from https://www.youtube.com/watch?v=xzlfXSBzhx8&ab_channel=IndianPythonista"
   ]
  },
  {
   "cell_type": "code",
   "execution_count": 12,
   "metadata": {},
   "outputs": [
    {
     "name": "stdout",
     "output_type": "stream",
     "text": [
      "14\n"
     ]
    }
   ],
   "source": [
    "### Random is not truely random because it can accept seeds that make random values the same regardless of the computer\n",
    "import random\n",
    "random.seed(1234)\n",
    "print(random.randrange(0,20))"
=======
   "execution_count": 1,
   "metadata": {},
   "outputs": [],
   "source": [
    "print(\"hello\")\n",
    "print(6+2)\n",
    "a = \"kek\"\n",
    "print(a)"
   ]
  },
  {
   "cell_type": "markdown",
   "metadata": {},
   "source": [
    "### Hello people\n",
    "howdy"
>>>>>>> ab2a3e75c8b8073995d090b0572bfafc5a365335
   ]
  },
  {
   "cell_type": "code",
<<<<<<< HEAD
   "execution_count": 11,
   "metadata": {},
   "outputs": [
    {
     "name": "stdout",
     "output_type": "stream",
     "text": [
      "14\n"
=======
   "execution_count": 2,
   "metadata": {},
   "outputs": [
    {
     "ename": "NameError",
     "evalue": "name 'gb' is not defined",
     "output_type": "error",
     "traceback": [
      "\u001b[1;31m---------------------------------------------------------------------------\u001b[0m",
      "\u001b[1;31mNameError\u001b[0m                                 Traceback (most recent call last)",
      "\u001b[1;32m<ipython-input-2-eff2c14a507d>\u001b[0m in \u001b[0;36m<module>\u001b[1;34m\u001b[0m\n\u001b[1;32m----> 1\u001b[1;33m \u001b[0mprint\u001b[0m\u001b[1;33m(\u001b[0m\u001b[0mgb\u001b[0m\u001b[1;33m)\u001b[0m\u001b[1;33m\u001b[0m\u001b[1;33m\u001b[0m\u001b[0m\n\u001b[0m",
      "\u001b[1;31mNameError\u001b[0m: name 'gb' is not defined"
>>>>>>> ab2a3e75c8b8073995d090b0572bfafc5a365335
     ]
    }
   ],
   "source": [
<<<<<<< HEAD
    "random.seed(1234)\n",
    "print(random.randrange(0,20))"
   ]
  },
  {
   "cell_type": "code",
   "execution_count": 15,
   "metadata": {},
   "outputs": [
    {
     "name": "stdout",
     "output_type": "stream",
     "text": [
      "14\n"
     ]
    }
   ],
   "source": [
    "random.seed(1234)\n",
    "print(random.randrange(0,20))"
=======
    "print(gb)"
>>>>>>> ab2a3e75c8b8073995d090b0572bfafc5a365335
   ]
  },
  {
   "cell_type": "code",
   "execution_count": null,
   "metadata": {},
   "outputs": [],
   "source": [
<<<<<<< HEAD
    "### Above you can see that when the seed is applied the random value will always be the same\n",
    "### The random default seed is from os.urandom(n) which returns random bytes and is considered secrue\n",
    "### If that is false, however, random will default to the sum of the current time and process identifier"
=======
    "print(\"hey\")"
>>>>>>> ab2a3e75c8b8073995d090b0572bfafc5a365335
   ]
  },
  {
   "cell_type": "code",
<<<<<<< HEAD
   "execution_count": 13,
=======
   "execution_count": 1,
>>>>>>> ab2a3e75c8b8073995d090b0572bfafc5a365335
   "metadata": {},
   "outputs": [
    {
     "name": "stdout",
     "output_type": "stream",
     "text": [
<<<<<<< HEAD
      "6\n"
     ]
    }
   ],
   "source": [
    "### Secrets on the other hand does not accept a seed and always defaults to os.urandom(n), thus providigng the most\n",
    "### cryptografically secure \"random\" bit\n",
    "import secrets\n",
    "print(secrets.randbelow(20))"
   ]
  },
  {
   "cell_type": "code",
   "execution_count": 14,
   "metadata": {},
   "outputs": [
    {
     "name": "stdout",
     "output_type": "stream",
     "text": [
      "3\n"
     ]
    }
   ],
   "source": [
    "print(secrets.randbelow(20))"
   ]
  },
  {
   "cell_type": "code",
   "execution_count": 16,
   "metadata": {},
   "outputs": [
    {
     "name": "stdout",
     "output_type": "stream",
     "text": [
      "11\n"
=======
      "1st Test\n"
     ]
    },
    {
     "ename": "FileNotFoundError",
     "evalue": "[Errno 2] No such file or directory: 'StatePopulations.csv'",
     "output_type": "error",
     "traceback": [
      "\u001b[1;31m---------------------------------------------------------------------------\u001b[0m",
      "\u001b[1;31mFileNotFoundError\u001b[0m                         Traceback (most recent call last)",
      "\u001b[1;32m<ipython-input-1-269f66e189fa>\u001b[0m in \u001b[0;36m<module>\u001b[1;34m\u001b[0m\n\u001b[0;32m    311\u001b[0m     \u001b[1;31m#Testing the defaults\u001b[0m\u001b[1;33m\u001b[0m\u001b[1;33m\u001b[0m\u001b[1;33m\u001b[0m\u001b[0m\n\u001b[0;32m    312\u001b[0m     \u001b[0mprint\u001b[0m\u001b[1;33m(\u001b[0m\u001b[1;34m'1st Test'\u001b[0m\u001b[1;33m)\u001b[0m\u001b[1;33m\u001b[0m\u001b[1;33m\u001b[0m\u001b[0m\n\u001b[1;32m--> 313\u001b[1;33m     \u001b[0mRepresentationAnalysis\u001b[0m\u001b[1;33m(\u001b[0m \u001b[0mfile\u001b[0m\u001b[1;33m=\u001b[0m\u001b[1;34m'StatePopulations.csv'\u001b[0m\u001b[1;33m)\u001b[0m\u001b[1;33m\u001b[0m\u001b[1;33m\u001b[0m\u001b[0m\n\u001b[0m\u001b[0;32m    314\u001b[0m \u001b[1;33m\u001b[0m\u001b[0m\n\u001b[0;32m    315\u001b[0m     \u001b[1;31m#Testing roundingFunc\u001b[0m\u001b[1;33m\u001b[0m\u001b[1;33m\u001b[0m\u001b[1;33m\u001b[0m\u001b[0m\n",
      "\u001b[1;32m<ipython-input-1-269f66e189fa>\u001b[0m in \u001b[0;36mRepresentationAnalysis\u001b[1;34m(file, constituentSize, delegationState, numOfDelegates, roundingFunc, includeDC, includePR)\u001b[0m\n\u001b[0;32m     34\u001b[0m     \u001b[0mrank\u001b[0m\u001b[1;33m,\u001b[0m \u001b[0mstates\u001b[0m\u001b[1;33m,\u001b[0m \u001b[0mpopulation\u001b[0m \u001b[1;33m=\u001b[0m \u001b[1;33m[\u001b[0m\u001b[1;33m]\u001b[0m\u001b[1;33m,\u001b[0m \u001b[1;33m[\u001b[0m\u001b[1;33m]\u001b[0m\u001b[1;33m,\u001b[0m \u001b[1;33m[\u001b[0m\u001b[1;33m]\u001b[0m\u001b[1;33m\u001b[0m\u001b[1;33m\u001b[0m\u001b[0m\n\u001b[0;32m     35\u001b[0m \u001b[1;33m\u001b[0m\u001b[0m\n\u001b[1;32m---> 36\u001b[1;33m     \u001b[1;32mwith\u001b[0m \u001b[0mopen\u001b[0m\u001b[1;33m(\u001b[0m\u001b[0mfile\u001b[0m\u001b[1;33m)\u001b[0m \u001b[1;32mas\u001b[0m \u001b[0mdata\u001b[0m\u001b[1;33m:\u001b[0m\u001b[1;33m\u001b[0m\u001b[1;33m\u001b[0m\u001b[0m\n\u001b[0m\u001b[0;32m     37\u001b[0m         \u001b[0mreader\u001b[0m \u001b[1;33m=\u001b[0m \u001b[0mcsv\u001b[0m\u001b[1;33m.\u001b[0m\u001b[0mreader\u001b[0m\u001b[1;33m(\u001b[0m\u001b[0mdata\u001b[0m\u001b[1;33m,\u001b[0m \u001b[0mdelimiter\u001b[0m\u001b[1;33m=\u001b[0m\u001b[1;34m\",\"\u001b[0m\u001b[1;33m)\u001b[0m\u001b[1;33m\u001b[0m\u001b[1;33m\u001b[0m\u001b[0m\n\u001b[0;32m     38\u001b[0m         \u001b[0mnext\u001b[0m\u001b[1;33m(\u001b[0m\u001b[0mreader\u001b[0m\u001b[1;33m,\u001b[0m \u001b[1;32mNone\u001b[0m\u001b[1;33m)\u001b[0m\u001b[1;33m\u001b[0m\u001b[1;33m\u001b[0m\u001b[0m\n",
      "\u001b[1;31mFileNotFoundError\u001b[0m: [Errno 2] No such file or directory: 'StatePopulations.csv'"
>>>>>>> ab2a3e75c8b8073995d090b0572bfafc5a365335
     ]
    }
   ],
   "source": [
<<<<<<< HEAD
    "print(secrets.randbelow(20))"
   ]
  },
  {
   "cell_type": "code",
   "execution_count": 18,
   "metadata": {},
   "outputs": [
    {
     "name": "stdout",
     "output_type": "stream",
     "text": [
      "Q7lZi3Vw4UVK8B8XgSnpNYnzqfURkA7tx9b7jusNqVk\n"
     ]
    }
   ],
   "source": [
    "### Other secrets methods\n",
    "print(secrets.token_urlsafe())"
   ]
  },
  {
   "cell_type": "code",
   "execution_count": 20,
   "metadata": {},
   "outputs": [
    {
     "name": "stdout",
     "output_type": "stream",
     "text": [
      "b'\\xe9\\x13\\xf6\\xc4'\n"
     ]
    }
   ],
   "source": [
    "print(secrets.token_bytes(4))"
   ]
  },
  {
   "cell_type": "code",
   "execution_count": 28,
   "metadata": {},
   "outputs": [],
   "source": [
    "### Perhaps secrets' most useful method is secrets.compare_digest(a,b)\n",
    "### This method is useful in cryptographic applcations like preventing time attacks"
   ]
  },
  {
   "cell_type": "code",
   "execution_count": 42,
   "metadata": {},
   "outputs": [
    {
     "name": "stdout",
     "output_type": "stream",
     "text": [
      "74.2 ns ± 37.7 ns per loop (mean ± std. dev. of 200 runs, 10 loops each)\n"
     ]
    }
   ],
   "source": [
    "%%timeit -n 10 -r 200 \n",
    "\"lsahflhflkjashflkjadshfe9840923u4HKHKH\" == \"lsahflhflkjashflkjadshfe9840923u4HKHKH\""
   ]
  },
  {
   "cell_type": "code",
   "execution_count": 43,
   "metadata": {},
   "outputs": [
    {
     "name": "stdout",
     "output_type": "stream",
     "text": [
      "299 ns ± 48.7 ns per loop (mean ± std. dev. of 200 runs, 10 loops each)\n"
     ]
    }
   ],
   "source": [
    "%%timeit -n 10 -r 200\n",
    "secrets.compare_digest(\"lsahflhflkjashflkjadshfe9840923u4HKHKH\",\"lsahflhflkjashflkjadshfe9840923u4HKHKH\")"
   ]
  },
  {
   "cell_type": "code",
   "execution_count": null,
   "metadata": {},
   "outputs": [],
   "source": []
=======
    "## Assignment2 ME369P/ME396P\n",
    "## Name: Bryce Holladay\n",
    "## EID : bdh2559\n",
    "## Section: 19085\n",
    "\n",
    "## Fill in the class and functions below. \n",
    "## Make sure your class runs with the tests in main\n",
    "## You may use any imports, but do not use any import function for \n",
    "##      norm calculation or matrix operations. Be wary of numpy.\n",
    "\n",
    "import csv, math, random\n",
    "from datetime import datetime as dt\n",
    "\n",
    "'''\n",
    "PROBLEM 1\n",
    "Assume rounding will occur only at the end, and not in middle stages\n",
    "Assume the default values are to be set in the function definition\n",
    "Assume the print statements include the brackets in the assignment: < and > \n",
    "Undergraduates: Assume all parameters passed in are valid\n",
    "Graduates: Assume you need to check the validity of passed in arguments\n",
    "            NOTE: Print the following error message if no file is given: ERROR! No file passed.\n",
    "            NOTE: For all other invalid parameters, use the default instead. \n",
    "Assume any non-rounded values should be formatted to two decimal places.\n",
    "'''\n",
    "def RepresentationAnalysis (\n",
    "        file,\n",
    "        constituentSize=0,\n",
    "        delegationState=\"Wyoming\",\n",
    "        numOfDelegates=1,\n",
    "        roundingFunc=round,\n",
    "        includeDC=False,\n",
    "        includePR=False):\n",
    "\n",
    "    rank, states, population = [], [], []\n",
    "\n",
    "    with open(file) as data:\n",
    "        reader = csv.reader(data, delimiter=\",\")\n",
    "        next(reader, None)\n",
    "        for row in reader:\n",
    "            try:\n",
    "                if(not includeDC and row[1] == \"District of Columbia\") or (not includePR and row[1] == \"Puerto Rico\"):\n",
    "                    pass\n",
    "                else:\n",
    "                    rank.append(row[0])\n",
    "                    states.append(row[1])\n",
    "                    population.append(int(row[2]))\n",
    "            except: pass\n",
    "\n",
    "    if constituentSize == 0:\n",
    "        index = states.index(delegationState)\n",
    "        constituentSize = population[index] / numOfDelegates\n",
    "\n",
    "    delegates = []\n",
    "    for i in range(0, len(states)):\n",
    "        del_num = population[i]/constituentSize\n",
    "        delegates.append(roundingFunc(del_num))\n",
    "\n",
    "    zipped = zip(states, delegates, population, rank)\n",
    "    sort_lists = sorted(zipped)\n",
    "    tuples = zip(*sort_lists)\n",
    "    states, delegates, population, rank = [list(t) for t in tuples]\n",
    "\n",
    "    today = dt.now().strftime(\"%B %d, %Y\")\n",
    "    print(\"Report Generation Date:\", today)\n",
    "\n",
    "    nstates = len(states)\n",
    "    pop_tot = sum(population)\n",
    "    print(f\"The total population for the {nstates} states analyzed is {pop_tot}.\")\n",
    "\n",
    "    del_tot = sum(delegates)\n",
    "    print(f\"The total number of house members will be {del_tot}.\\n\")\n",
    "\n",
    "    print(\"The number of house representatives for each state are:\")\n",
    "    for n in range(0, len(states)):\n",
    "        print(f\"{states[n]}: {delegates[n]}\")\n",
    "\n",
    "def roundNone(num):\n",
    "    #Graduate students insert your custom rounding function for problem 1 here\n",
    "    #Undergraduate students may comment it out\n",
    "    return num\n",
    "\n",
    "def round75(num):\n",
    "    #Graduate students insert your custom rounding function for problem 1 here\n",
    "    #Undergraduate students may comment it out\n",
    "    remainder = num - math.floor(num)\n",
    "    if remainder > .75:\n",
    "        return math.ceil(num)\n",
    "    else:\n",
    "        return math.floor(num)\n",
    "\n",
    "\n",
    "'''\n",
    "PROBLEM 2\n",
    "Assume all arguments will NOT be key words\n",
    "Assume at least one argument will be passed\n",
    "Assume that if two integer arguments are passed, the first is row and the\n",
    "  second is column\n",
    "Assume the default list of letters is ['a','b','c']\n",
    "            NOTE: All characters have an ascii value associated with them\n",
    "Assume the default format is '[' and ']'\n",
    "Assume that if two strings are passed in as argument the first is the beginning \n",
    "  format string and the second is the ending format string\n",
    "            NOTE: If one string is passed in, assume it is beginning and end\n",
    "            but note the reversal in the instructions\n",
    "Assume all matrix entries are a single digit (i.e. no ['cat','bat','mat'] lists)\n",
    "'''\n",
    "\n",
    "def MatrixGeneration(*args):\n",
    "\n",
    "    rows, columns, letters, open, close = None, None, None, None, None\n",
    "\n",
    "    for a in args:\n",
    "        if type(a) == int:\n",
    "            if rows is None:\n",
    "                rows = a\n",
    "            else:\n",
    "                columns = a\n",
    "        elif type(a) == str:\n",
    "            if open is None:\n",
    "                open = a\n",
    "            else:\n",
    "                close = a\n",
    "        elif type(a) == list:\n",
    "            letters = a\n",
    "\n",
    "    if columns is None:\n",
    "        columns = rows\n",
    "\n",
    "    if letters is None:\n",
    "        letters = ['a', 'c']\n",
    "\n",
    "    if close is None:\n",
    "        if open is None:\n",
    "            open = \"[ \"\n",
    "            close = \"]\"\n",
    "        else:\n",
    "            close = open[::-1]\n",
    "            open += \" \"\n",
    "    else:\n",
    "        open += \" \"\n",
    "\n",
    "    if len(letters) == 2:\n",
    "        val_1 = ord(letters[0])\n",
    "        val_2 = ord(letters[1])\n",
    "        letters = []\n",
    "        for i in range(0, (val_2 - val_1) + 1):\n",
    "            letters.append(chr(val_1 + i))\n",
    "\n",
    "    for i in range(0,rows):\n",
    "        line = open\n",
    "        for j in range(0,columns):\n",
    "            rand_num = random.randrange(len(letters))\n",
    "            rand_letter = letters[rand_num]\n",
    "            line += (rand_letter + \" \")\n",
    "        line += close\n",
    "        print(line)\n",
    "\n",
    "\n",
    "'''\n",
    "PROBLEM 3\n",
    "Assume if a kwarg is not present, you should create the basic matrix\n",
    "Assume the style is default to random\n",
    "Assume the set is default to [0, 1]\n",
    "kwargs can be :\n",
    "    n =>  size of nxn matrix NOTE: You can assume if n is passed, i and j won't be\n",
    "    i =>  number of rows     NOTE: If i is passed, assume j will be too\n",
    "    j =>  number of columns\n",
    "    range => [min, max] list\n",
    "    set   => [number1, ..., numberN]\n",
    "                NOTE: If set is specified, use that over range\n",
    "                NOTE: If not specified, assume the set is the range\n",
    "    style => a string which can be anything in {diagonal, upper, lower, symmetric, random}\n",
    "                NOTE: Any non-square matrix will be random\n",
    "                NOTE: Different styles will always be square matrices\n",
    "                NOTE: Use zeroes in the stylized matrices even if not in the given numbers\n",
    "    format1 => string for formating 1st  element of each row\n",
    "    format2 => string for formating last element of each row\n",
    "                NOTE: If both formats are '', assume the default of no format\n",
    "                NOTE: If one format is '', assume the other format is a string that is reversable\n",
    "Assume all matrix entries are a single digit (i.e. no 10's 100's, etc)\n",
    "'''\n",
    "\n",
    "## Put code for question 3 in this function\n",
    "## print out matrix with newlines between rows\n",
    "## print out elements in rows 1 space apart, with space between the format strings and the values\n",
    "class myAwesomeMatrix:\n",
    "    def __init__(self, **kwargs):\n",
    "        self.n = kwargs.get('n', 4)\n",
    "        self.i = kwargs.get('i', None)\n",
    "        self.j = kwargs.get('j', None)\n",
    "        self.nums = kwargs.get('set', kwargs.get('range',[0,1]))\n",
    "        self.style = kwargs.get('style', 'random')\n",
    "        self.format1 = str(kwargs.get(\"format1\", ''))\n",
    "        self.format2 = str(kwargs.get(\"format2\", ''))\n",
    "        self.matrix = []\n",
    "\n",
    "        if self.i is None or self.j is None:\n",
    "            self.i = self.n\n",
    "            self.j = self.n\n",
    "\n",
    "        for k in range(0, self.i):\n",
    "            self.matrix.append([])\n",
    "\n",
    "        if len(self.nums) == 2:\n",
    "            nums_expand = []\n",
    "            for i in range(self.nums[0],self.nums[1]+1):\n",
    "                nums_expand.append(i)\n",
    "            self.nums = nums_expand\n",
    "\n",
    "        if self.format1 == '' and self.format2 != '':\n",
    "            self.format1 = self.format2[::-1]\n",
    "        elif self.format2 == '' and self.format1 != '':\n",
    "            self.format2 = self.format1[::-1]\n",
    "        if self.format1 != '' and self.format2 != '':\n",
    "            self.format1 = self.format1 + ' '\n",
    "            self.format2 = ' ' + self.format2\n",
    "\n",
    "        if self.style == 'random':\n",
    "            for i in range(0,self.i):\n",
    "                for j in range(0,self.j):\n",
    "                    rand = random.randrange(len(self.nums))\n",
    "                    self.matrix[i].append(int(self.nums[rand]))\n",
    "\n",
    "        elif self.style == 'diagonal':\n",
    "            for i in range(0,self.i):\n",
    "                for j in range(0,self.j):\n",
    "                    if i == j:\n",
    "                        rand = random.randrange(len(self.nums))\n",
    "                        self.matrix[i].append(int(self.nums[rand]))\n",
    "                    else:\n",
    "                        self.matrix[i].append(0)\n",
    "\n",
    "        elif self.style == 'upper':\n",
    "            for i in range(0,self.i):\n",
    "                for j in range(0,self.j):\n",
    "                    if i <= j:\n",
    "                        rand = random.randrange(len(self.nums))\n",
    "                        self.matrix[i].append(int(self.nums[rand]))\n",
    "                    else:\n",
    "                        self.matrix[i].append(0)\n",
    "\n",
    "        elif self.style == 'lower':\n",
    "            for i in range(0,self.i):\n",
    "                for j in range(0,self.j):\n",
    "                    if i >= j:\n",
    "                        rand = random.randrange(len(self.nums))\n",
    "                        self.matrix[i].append(int(self.nums[rand]))\n",
    "                    else:\n",
    "                        self.matrix[i].append(0)\n",
    "\n",
    "        elif self.style == 'symmetric':\n",
    "            for i in range(0,self.i):\n",
    "                for j in range(0,self.j):\n",
    "                    self.matrix[i].append(0)\n",
    "            for i in range(0,self.i):\n",
    "                for j in range(0,self.j):\n",
    "                    rand = random.randrange(len(self.nums))\n",
    "                    self.matrix[i][j] = int(self.nums[rand])\n",
    "                    self.matrix[j][i] = int(self.nums[rand])\n",
    "\n",
    "\n",
    "    def __str__(self):\n",
    "        text = \"\"\n",
    "        for i in range(0,self.i):\n",
    "            text += self.format1\n",
    "            for j in range(0,self.j):\n",
    "                text += str(self.matrix[i][j])\n",
    "                if j+1 < self.j:\n",
    "                    text += ' '\n",
    "            text += self.format2\n",
    "            if i+1 < self.i:\n",
    "                text += '\\n'\n",
    "        return text\n",
    "\n",
    "\n",
    "    def Add(self, m):\n",
    "        try:\n",
    "            kwargs = {'i':self.i, 'j':self.j, 'set':self.nums, 'style':self.style,\n",
    "                  'format1':self.format1[:len(self.format1)-1], 'format2':self.format2[1:], 'matrix':self.matrix}\n",
    "        except:\n",
    "            kwargs = {'i': self.i, 'j': self.j, 'set': self.nums, 'style': self.style,\n",
    "                      'format1': self.format1, 'format2': self.format2, 'matrix': self.matrix}\n",
    "        new_m = myAwesomeMatrix(**kwargs)\n",
    "        for i in range(0, self.i):\n",
    "            for j in range(0, self.j):\n",
    "                new_m.matrix[i][j] = self.matrix[i][j] + m.matrix[i][j]\n",
    "        return new_m\n",
    "\n",
    "    def __add__(self, m):\n",
    "        return self.Add(m)\n",
    "\n",
    "    def __lt__(self, m):\n",
    "        return self.norm() < m.norm()\n",
    "\n",
    "    def norm(self):\n",
    "        norm_max = 0\n",
    "        for j in range(0,self.j):\n",
    "            norm = 0\n",
    "            for i in range(0,self.i):\n",
    "                norm += self.matrix[i][j]\n",
    "            if norm > norm_max:\n",
    "                norm_max = norm\n",
    "        return norm_max\n",
    "\n",
    "\n",
    "\n",
    "\n",
    "if __name__ == '__main__':\n",
    "\n",
    "    ###Problem 1\n",
    "    #Testing the defaults\n",
    "    print('1st Test')\n",
    "    RepresentationAnalysis( file='StatePopulations.csv')\n",
    "\n",
    "    #Testing roundingFunc\n",
    "    print('\\n2nd Test')\n",
    "    RepresentationAnalysis( file='StatePopulations.csv', constituentSize=150000)\n",
    "    \n",
    "    print('\\n3rd Test')\n",
    "    RepresentationAnalysis( file='StatePopulations.csv', constituentSize=150000, \n",
    "                            roundingFunc=math.ceil)\n",
    "    print('\\n4th Test')\n",
    "    RepresentationAnalysis( file='StatePopulations.csv', constituentSize=150000, \n",
    "                            roundingFunc=math.floor)\n",
    "\n",
    "    #Testing the delegates\n",
    "    print('\\n5th Test')\n",
    "    RepresentationAnalysis( file='StatePopulations.csv', delegationState=\"Wyoming\",\n",
    "                            numOfDelegates=2)\n",
    "    print('\\n6th Test')\n",
    "    RepresentationAnalysis( file='StatePopulations.csv', delegationState=\"Vermont\",\n",
    "                            numOfDelegates=2)\n",
    "    print('\\n7th Test')\n",
    "    RepresentationAnalysis( file='StatePopulations.csv', delegationState=\"Texas\",\n",
    "                            numOfDelegates=50)\n",
    "    print('\\n8th Test')\n",
    "    RepresentationAnalysis( file='StatePopulations.csv', delegationState=\"California\",\n",
    "                            numOfDelegates=50)\n",
    "\n",
    "    #Testing DC and PR\n",
    "    print('\\n9th Test')\n",
    "    RepresentationAnalysis( file='StatePopulations.csv')\n",
    "    print('\\n10th Test')\n",
    "    RepresentationAnalysis( file='StatePopulations.csv', includePR=True, includeDC=False)\n",
    "    print('\\n11th Test')\n",
    "    RepresentationAnalysis( file='StatePopulations.csv', includePR=False, includeDC=True)\n",
    "    print('\\n12th Test')\n",
    "    RepresentationAnalysis( file='StatePopulations.csv', includePR=True, includeDC=True)\n",
    "\n",
    "    ###This section is for graduate students, undergrads may comment it out\n",
    "    #Testing custom rounding functions\n",
    "    print('\\nNo rounding test')\n",
    "    RepresentationAnalysis( file='StatePopulations.csv', constituentSize=150000, \n",
    "                            roundingFunc=roundNone)\n",
    "    print('\\n75 percent rounding test')\n",
    "    RepresentationAnalysis( file='StatePopulations.csv', constituentSize=150000, \n",
    "                            roundingFunc=round75)\n",
    "    \n",
    "    ###Problem 2\n",
    "    #Testing the letter matrices\n",
    "    print(\"\\n\\nTesting the MatrixGeneration function\\n\")\n",
    "    print('1st Test')\n",
    "    MatrixGeneration(4)\n",
    "    \n",
    "    print('\\n2nd Test')\n",
    "    MatrixGeneration(4, 3)\n",
    "    \n",
    "    print('\\n3rd Test')\n",
    "    MatrixGeneration(2, 5)\n",
    "    \n",
    "    print('\\n4th Test')\n",
    "    MatrixGeneration(1, 7)\n",
    "    \n",
    "    print('\\n5th Test')\n",
    "    MatrixGeneration(7, 1)\n",
    "    \n",
    "    print('\\n6th Test')\n",
    "    MatrixGeneration(4, 4, '<', '>')\n",
    "    \n",
    "    print('\\n7th Test')\n",
    "    MatrixGeneration(3, 3, '+-+-')\n",
    "    \n",
    "    print('\\n8th Test')\n",
    "    MatrixGeneration(3, 3, ['a', 'z', 'c'])\n",
    "    \n",
    "    print('\\n9th Test')\n",
    "    MatrixGeneration(7, 3, ['d', 'p'], '+-+-')\n",
    "\n",
    "    ###Problem 3\n",
    "    #Testing matrix constructions\n",
    "    print(\"\\n\\nTesting the myAwesomeMatrix class\\n\")\n",
    "    print('1st Test')\n",
    "    m = myAwesomeMatrix()\n",
    "    print(m)\n",
    "\n",
    "    print('\\n2nd Test')\n",
    "    kwargs = {'n': 4}\n",
    "    print(myAwesomeMatrix(**kwargs))\n",
    "\n",
    "    print('\\n3rd Test')\n",
    "    kwargs = {'i': 3, 'j': 4}\n",
    "    print(myAwesomeMatrix(**kwargs))\n",
    "\n",
    "    print('\\n4th Test')\n",
    "    kwargs = {'n': 6, 'range': [1,3], 'format1': '[', 'format2': ']'}\n",
    "    print(myAwesomeMatrix(**kwargs))\n",
    "\n",
    "    print('\\n5th Test')\n",
    "    kwargs = {'n': 2, 'set': [1, 2, 3], 'style':'lower'}\n",
    "    print(myAwesomeMatrix(**kwargs))\n",
    "\n",
    "    print('\\n6th Test')\n",
    "    kwargs = {'n': 4, 'format1': 'cool', 'format2': 'cool'}\n",
    "    print(myAwesomeMatrix(**kwargs))\n",
    "\n",
    "    print('\\n7th Test')\n",
    "    kwargs = {'n': 4, 'style': 'diagonal', 'set': [1]}\n",
    "    print(myAwesomeMatrix(**kwargs))\n",
    "\n",
    "    print('\\n8th Test')\n",
    "    kwargs = {'n': 5,'set': [5, 7, 8, 3, 2, 4, 9],'format1':'ed!#','style':'symmetric'}\n",
    "    print(myAwesomeMatrix(**kwargs))\n",
    "\n",
    "    #Testing Addition with Add method\n",
    "    print('\\nAdd Methods')\n",
    "    kwargs = {'n': 4, 'style': 'upper', 'set': [4,3,6,7], 'format2':'@-!-'}\n",
    "    m2 = myAwesomeMatrix(**kwargs)\n",
    "    print('m')\n",
    "    print(m)\n",
    "    print('m2')\n",
    "    print(m2)\n",
    "    print('m2.Add(m)')\n",
    "    print(m2.Add(m))\n",
    "\n",
    "    #Testing Addition with overloaded add (+)\n",
    "    print('m2 + m')\n",
    "    print(m2+m)\n",
    "\n",
    "    #Testing overloaded '<' operator\n",
    "    kwargs = {'n': 4, 'style': 'upper', 'set': [4,3,6,7]}\n",
    "    m2 = myAwesomeMatrix(**kwargs)\n",
    "    print('m2')\n",
    "    print(m2)\n",
    "    kwargs = {'n': 6, 'set': [0,1]}\n",
    "    m = myAwesomeMatrix(**kwargs)\n",
    "    print('m')\n",
    "    print(m)\n",
    "    print('It is', m < m2, 'that m is less than m2', end='\\n\\n')\n",
    "\n",
    "\n",
    "    ###This section is for graduate students, undergrads may comment it out\n",
    "    #Testing the matrix norms with square matrix\n",
    "    '''\n",
    "    print('\\nNorm Methods')\n",
    "    kwargs = {'n': 6, 'set': [2,1,4,3,6,7]}\n",
    "    m = myAwesomeMatrix(**kwargs)\n",
    "    print('m')\n",
    "    print(m)\n",
    "    print('Vector norm when p = 1:')\n",
    "    print(m.GetNorm(1))\n",
    "    print('Vector norm when p = 2:')\n",
    "    print(m.GetNorm(2))\n",
    "    print('Vector norm when p = 3:')\n",
    "    print(m.GetNorm(3))\n",
    "    print('Vector norm when p = 100:')\n",
    "    print(m.GetNorm(100))\n",
    "    print('Vector norm when p = inf:')\n",
    "    print(m.GetNorm(math.inf))\n",
    "\n",
    "\n",
    "    ###This section is for graduate students, undergrads may comment it out\n",
    "    #Testing the matrix norms with a matrix that isn't square\n",
    "    kwargs = {'i': 6, 'j':2, 'set': [2,1,4,3,6,7]}\n",
    "    m = myAwesomeMatrix(**kwargs)\n",
    "    print('m')\n",
    "    print(m)\n",
    "    print('Vector norm when p = 1:')\n",
    "    print(m.GetNorm(1))\n",
    "    print('Vector norm when p = 2:')\n",
    "    print(m.GetNorm(2))\n",
    "    print('Vector norm when p = 3:')\n",
    "    print(m.GetNorm(3))\n",
    "    print('Vector norm when p = 100:')\n",
    "    print(m.GetNorm(100))\n",
    "    print('Vector norm when p = inf:')\n",
    "    print(m.GetNorm(math.inf))\n",
    "    '''\n",
    "\n",
    "    print(\"Done\")\n",
    "\n",
    "    # You can do any testing you want here\n",
    "    # Anycode you run here will not run when being graded...\n"
   ]
>>>>>>> ab2a3e75c8b8073995d090b0572bfafc5a365335
  }
 ],
 "metadata": {
  "kernelspec": {
   "display_name": "Python 3",
   "language": "python",
   "name": "python3"
  },
  "language_info": {
   "codemirror_mode": {
    "name": "ipython",
    "version": 3
   },
   "file_extension": ".py",
   "mimetype": "text/x-python",
   "name": "python",
   "nbconvert_exporter": "python",
   "pygments_lexer": "ipython3",
   "version": "3.8.3"
  }
 },
 "nbformat": 4,
 "nbformat_minor": 4
}
